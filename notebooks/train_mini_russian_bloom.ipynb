{
 "cells": [
  {
   "cell_type": "code",
   "execution_count": 1,
   "id": "63d15ac8",
   "metadata": {},
   "outputs": [],
   "source": [
    "import numpy as np\n",
    "\n",
    "import torch\n",
    "from torch.utils.data import DataLoader, random_split\n",
    "\n",
    "from transformers import BloomTokenizerFast, BloomForCausalLM, AutoTokenizer\n",
    "\n",
    "\n",
    "from datasets import load_dataset\n",
    "\n",
    "from tqdm.auto import tqdm"
   ]
  },
  {
   "cell_type": "code",
   "execution_count": 2,
   "id": "9c046a22",
   "metadata": {},
   "outputs": [
    {
     "name": "stderr",
     "output_type": "stream",
     "text": [
      "Special tokens have been added in the vocabulary, make sure the associated word embeddings are fine-tuned or trained.\n"
     ]
    },
    {
     "name": "stdout",
     "output_type": "stream",
     "text": [
      "CPU times: user 4.76 s, sys: 1.25 s, total: 6.01 s\n",
      "Wall time: 9.94 s\n"
     ]
    }
   ],
   "source": [
    "%%time\n",
    "# tokenizer = BloomTokenizerFast.from_pretrained(\"bigscience/bloom-560m\")\n",
    "tokenizer = AutoTokenizer.from_pretrained(\"sberbank-ai/rugpt3large_based_on_gpt2\", padding_side='left')\n",
    "model = BloomForCausalLM.from_pretrained(\"bigscience/bloom-560m\")"
   ]
  },
  {
   "cell_type": "code",
   "execution_count": 3,
   "id": "b0ba2331",
   "metadata": {},
   "outputs": [],
   "source": [
    "tokenizer.pad_token = tokenizer.eos_token"
   ]
  },
  {
   "cell_type": "code",
   "execution_count": 4,
   "id": "5d7ef41b",
   "metadata": {},
   "outputs": [
    {
     "name": "stderr",
     "output_type": "stream",
     "text": [
      "Found cached dataset oscar-mini (/home/alexnikko/.cache/huggingface/datasets/nthngdy___oscar-mini/unshuffled_deduplicated_ru/1.0.0/d61b181331745a38dd31e8c6cc23d46566b96e255384c4421f2396af24a01dff)\n"
     ]
    }
   ],
   "source": [
    "def collate_fn(data):\n",
    "    texts = [x['text'] for x in data]\n",
    "    inputs = tokenizer(texts, padding=True, return_tensors='pt', max_length=64, truncation=True)\n",
    "    inputs['labels'] = torch.where(inputs['input_ids'] == 50257, -100, inputs['input_ids'])\n",
    "    return inputs\n",
    "\n",
    "\n",
    "dataset = load_dataset('nthngdy/oscar-mini', 'unshuffled_deduplicated_ru', split='train')\n",
    "\n",
    "train_length = int(0.99 * len(dataset))\n",
    "val_length = len(dataset) - train_length\n",
    "\n",
    "train_dataset, val_dataset = random_split(dataset, [train_length, val_length],\n",
    "                                          generator=torch.Generator().manual_seed(42))\n",
    "train_loader = DataLoader(train_dataset, collate_fn=collate_fn, batch_size=2, shuffle=True)\n",
    "val_loader = DataLoader(val_dataset, collate_fn=collate_fn, batch_size=2)"
   ]
  },
  {
   "cell_type": "code",
   "execution_count": 5,
   "id": "b69dd481",
   "metadata": {},
   "outputs": [
    {
     "data": {
      "text/plain": [
       "{'input_ids': tensor([[19572,   801,   768,  5123,   385,  1412,   289, 40854,   562,   272,\n",
       "         22149,   305,   552,   329,  8654,  1954,   360,  8359,  4149,   872,\n",
       "           718, 49641,   385,  8283,    18,   385,   923,   781, 37147,  1558,\n",
       "          5289, 30085,  3245,   289, 28602,    16,  3229,   828, 18351, 49641,\n",
       "           385,  8283,  6320,  5700,   411, 35243,  1781,  3258, 40583,    35,\n",
       "          8545, 11291,     5],\n",
       "        [50257, 50257, 50257, 50257, 50257, 50257, 50257,  4580,  1043,  5613,\n",
       "          3929,  9874, 20562,    16,  2726,  5643, 22847,   289, 22721,  2257,\n",
       "          5836,    16, 32293,   360, 44657, 14820,   282, 40349, 12893,    16,\n",
       "          6159,  2009,  3594,    16,  9410,   416,  3320,    18,   365, 39859,\n",
       "          1750, 13022, 11846,  1437, 37279,   294,  8481, 12867,  4676,  6657,\n",
       "           289,  8786,    18]]), 'attention_mask': tensor([[1, 1, 1, 1, 1, 1, 1, 1, 1, 1, 1, 1, 1, 1, 1, 1, 1, 1, 1, 1, 1, 1, 1, 1,\n",
       "         1, 1, 1, 1, 1, 1, 1, 1, 1, 1, 1, 1, 1, 1, 1, 1, 1, 1, 1, 1, 1, 1, 1, 1,\n",
       "         1, 1, 1, 1, 1],\n",
       "        [0, 0, 0, 0, 0, 0, 0, 1, 1, 1, 1, 1, 1, 1, 1, 1, 1, 1, 1, 1, 1, 1, 1, 1,\n",
       "         1, 1, 1, 1, 1, 1, 1, 1, 1, 1, 1, 1, 1, 1, 1, 1, 1, 1, 1, 1, 1, 1, 1, 1,\n",
       "         1, 1, 1, 1, 1]]), 'labels': tensor([[19572,   801,   768,  5123,   385,  1412,   289, 40854,   562,   272,\n",
       "         22149,   305,   552,   329,  8654,  1954,   360,  8359,  4149,   872,\n",
       "           718, 49641,   385,  8283,    18,   385,   923,   781, 37147,  1558,\n",
       "          5289, 30085,  3245,   289, 28602,    16,  3229,   828, 18351, 49641,\n",
       "           385,  8283,  6320,  5700,   411, 35243,  1781,  3258, 40583,    35,\n",
       "          8545, 11291,     5],\n",
       "        [50257, 50257, 50257, 50257, 50257, 50257, 50257,  4580,  1043,  5613,\n",
       "          3929,  9874, 20562,    16,  2726,  5643, 22847,   289, 22721,  2257,\n",
       "          5836,    16, 32293,   360, 44657, 14820,   282, 40349, 12893,    16,\n",
       "          6159,  2009,  3594,    16,  9410,   416,  3320,    18,   365, 39859,\n",
       "          1750, 13022, 11846,  1437, 37279,   294,  8481, 12867,  4676,  6657,\n",
       "           289,  8786,    18]])}"
      ]
     },
     "execution_count": 5,
     "metadata": {},
     "output_type": "execute_result"
    }
   ],
   "source": [
    "next(iter(train_loader))"
   ]
  },
  {
   "cell_type": "code",
   "execution_count": 6,
   "id": "311adfde",
   "metadata": {},
   "outputs": [],
   "source": [
    "for p in model.parameters():\n",
    "    p.requires_grad = False"
   ]
  },
  {
   "cell_type": "code",
   "execution_count": 7,
   "id": "36f51ea0",
   "metadata": {},
   "outputs": [],
   "source": [
    "model.transformer.word_embeddings = torch.nn.Embedding(tokenizer.vocab_size + 1, 1024)\n",
    "model.transformer.word_embeddings_layernorm = torch.nn.LayerNorm((1024,), eps=1e-5, elementwise_affine=True)"
   ]
  },
  {
   "cell_type": "code",
   "execution_count": 8,
   "id": "9ca61514",
   "metadata": {},
   "outputs": [],
   "source": [
    "import os\n",
    "os.environ['CUDA_LAUNCH_BLOCKING'] = '1'"
   ]
  },
  {
   "cell_type": "code",
   "execution_count": 9,
   "id": "39b733f5",
   "metadata": {},
   "outputs": [
    {
     "data": {
      "application/vnd.jupyter.widget-view+json": {
       "model_id": "7bc7c665bcbb45c391a2cffc10bf640d",
       "version_major": 2,
       "version_minor": 0
      },
      "text/plain": [
       "  0%|          | 0/575 [00:00<?, ?it/s]"
      ]
     },
     "metadata": {},
     "output_type": "display_data"
    }
   ],
   "source": [
    "# for p in model.parameters():\n",
    "#     p.requires_grad = False\n",
    "\n",
    "    \n",
    "device = 'cuda:0'\n",
    "\n",
    "model.to(device)\n",
    "\n",
    "model.eval()\n",
    "perplexity_values = []\n",
    "with torch.inference_mode():\n",
    "    for batch in tqdm(val_loader):\n",
    "        batch = {key: value.to(device) for key, value in batch.items()}\n",
    "        outputs = model(**batch)\n",
    "        perplexity = torch.exp(outputs.loss)\n",
    "        perplexity_values.append(perplexity.item())"
   ]
  },
  {
   "cell_type": "code",
   "execution_count": 20,
   "id": "77c3e538",
   "metadata": {},
   "outputs": [
    {
     "data": {
      "text/plain": [
       "37.658425997858465"
      ]
     },
     "execution_count": 20,
     "metadata": {},
     "output_type": "execute_result"
    }
   ],
   "source": [
    "np.mean(perplexity_values)"
   ]
  },
  {
   "cell_type": "code",
   "execution_count": 25,
   "id": "109146cb",
   "metadata": {},
   "outputs": [
    {
     "data": {
      "text/plain": [
       "45.671457590849506"
      ]
     },
     "execution_count": 25,
     "metadata": {},
     "output_type": "execute_result"
    }
   ],
   "source": [
    "np.mean(perplexity_values)"
   ]
  },
  {
   "cell_type": "code",
   "execution_count": 10,
   "id": "5ff84e15",
   "metadata": {},
   "outputs": [
    {
     "name": "stdout",
     "output_type": "stream",
     "text": [
      "not trained model perplexity = inf\n"
     ]
    }
   ],
   "source": [
    "print(f'not trained model perplexity = {np.mean(perplexity_values)}')"
   ]
  },
  {
   "cell_type": "code",
   "execution_count": null,
   "id": "52c1c41b",
   "metadata": {},
   "outputs": [],
   "source": []
  },
  {
   "cell_type": "code",
   "execution_count": 13,
   "id": "48a03ae5",
   "metadata": {},
   "outputs": [
    {
     "data": {
      "application/vnd.jupyter.widget-view+json": {
       "model_id": "cc02031dfba042bd85d01858c425390d",
       "version_major": 2,
       "version_minor": 0
      },
      "text/plain": [
       "  0%|          | 0/20 [00:00<?, ?it/s]"
      ]
     },
     "metadata": {},
     "output_type": "display_data"
    },
    {
     "data": {
      "application/vnd.jupyter.widget-view+json": {
       "model_id": "f55aab6b08204f9885b5a84c5cd44d7d",
       "version_major": 2,
       "version_minor": 0
      },
      "text/plain": [
       "  0%|          | 0/1000 [00:00<?, ?it/s]"
      ]
     },
     "metadata": {},
     "output_type": "display_data"
    },
    {
     "name": "stdout",
     "output_type": "stream",
     "text": [
      "\n",
      "Train loss = 19.513160165786744\n",
      "Train perplexity = inf\n",
      "\n"
     ]
    },
    {
     "data": {
      "application/vnd.jupyter.widget-view+json": {
       "model_id": "2889c322b4f04683b44c10cc82f89c10",
       "version_major": 2,
       "version_minor": 0
      },
      "text/plain": [
       "  0%|          | 0/575 [00:00<?, ?it/s]"
      ]
     },
     "metadata": {},
     "output_type": "display_data"
    },
    {
     "name": "stdout",
     "output_type": "stream",
     "text": [
      "\n",
      "Val loss = 16.93542254904042\n",
      "Val perplexity = 8.270905388244058e+25\n",
      "\n"
     ]
    },
    {
     "data": {
      "application/vnd.jupyter.widget-view+json": {
       "model_id": "7a1fc248793241978ee92a2e3ab9dade",
       "version_major": 2,
       "version_minor": 0
      },
      "text/plain": [
       "  0%|          | 0/1000 [00:00<?, ?it/s]"
      ]
     },
     "metadata": {},
     "output_type": "display_data"
    },
    {
     "name": "stdout",
     "output_type": "stream",
     "text": [
      "\n",
      "Train loss = 16.18055218029022\n",
      "Train perplexity = 5.8941690932847916e+29\n",
      "\n"
     ]
    },
    {
     "data": {
      "application/vnd.jupyter.widget-view+json": {
       "model_id": "781224fda99c4733af1a12a77ae18ec2",
       "version_major": 2,
       "version_minor": 0
      },
      "text/plain": [
       "  0%|          | 0/575 [00:00<?, ?it/s]"
      ]
     },
     "metadata": {},
     "output_type": "display_data"
    },
    {
     "name": "stdout",
     "output_type": "stream",
     "text": [
      "\n",
      "Val loss = 15.712012596130371\n",
      "Val perplexity = 4.510440234427319e+25\n",
      "\n"
     ]
    },
    {
     "data": {
      "application/vnd.jupyter.widget-view+json": {
       "model_id": "be87d1080111426187b7cca7dbac7260",
       "version_major": 2,
       "version_minor": 0
      },
      "text/plain": [
       "  0%|          | 0/1000 [00:00<?, ?it/s]"
      ]
     },
     "metadata": {},
     "output_type": "display_data"
    },
    {
     "name": "stdout",
     "output_type": "stream",
     "text": [
      "\n",
      "Train loss = 15.039828087806702\n",
      "Train perplexity = 5.337443715349891e+16\n",
      "\n"
     ]
    },
    {
     "data": {
      "application/vnd.jupyter.widget-view+json": {
       "model_id": "1d0e87588a874eaa97cdee4cc24ed5df",
       "version_major": 2,
       "version_minor": 0
      },
      "text/plain": [
       "  0%|          | 0/575 [00:00<?, ?it/s]"
      ]
     },
     "metadata": {},
     "output_type": "display_data"
    },
    {
     "name": "stdout",
     "output_type": "stream",
     "text": [
      "\n",
      "Val loss = 14.882750403362772\n",
      "Val perplexity = 6.003487305121589e+24\n",
      "\n"
     ]
    },
    {
     "data": {
      "application/vnd.jupyter.widget-view+json": {
       "model_id": "548c8ca2643e4ad9ba82d16e42099bc0",
       "version_major": 2,
       "version_minor": 0
      },
      "text/plain": [
       "  0%|          | 0/1000 [00:00<?, ?it/s]"
      ]
     },
     "metadata": {},
     "output_type": "display_data"
    },
    {
     "name": "stdout",
     "output_type": "stream",
     "text": [
      "\n",
      "Train loss = 14.299591787338256\n",
      "Train perplexity = 1.1524066507464403e+19\n",
      "\n"
     ]
    },
    {
     "data": {
      "application/vnd.jupyter.widget-view+json": {
       "model_id": "4f1923419dbe499e86e509b44b2e241d",
       "version_major": 2,
       "version_minor": 0
      },
      "text/plain": [
       "  0%|          | 0/575 [00:00<?, ?it/s]"
      ]
     },
     "metadata": {},
     "output_type": "display_data"
    },
    {
     "name": "stdout",
     "output_type": "stream",
     "text": [
      "\n",
      "Val loss = 14.32748211570408\n",
      "Val perplexity = 4.653681234366906e+22\n",
      "\n"
     ]
    },
    {
     "data": {
      "application/vnd.jupyter.widget-view+json": {
       "model_id": "d41cfdc87de74d94b4dd6f8910203987",
       "version_major": 2,
       "version_minor": 0
      },
      "text/plain": [
       "  0%|          | 0/1000 [00:00<?, ?it/s]"
      ]
     },
     "metadata": {},
     "output_type": "display_data"
    },
    {
     "name": "stdout",
     "output_type": "stream",
     "text": [
      "\n",
      "Train loss = 13.895928610801697\n",
      "Train perplexity = 140205074118183.38\n",
      "\n"
     ]
    },
    {
     "data": {
      "application/vnd.jupyter.widget-view+json": {
       "model_id": "440c43737ce94060acb22a91eb59d425",
       "version_major": 2,
       "version_minor": 0
      },
      "text/plain": [
       "  0%|          | 0/575 [00:00<?, ?it/s]"
      ]
     },
     "metadata": {},
     "output_type": "display_data"
    },
    {
     "name": "stdout",
     "output_type": "stream",
     "text": [
      "\n",
      "Val loss = 13.774944458007813\n",
      "Val perplexity = 2.285327155382476e+18\n",
      "\n"
     ]
    },
    {
     "data": {
      "application/vnd.jupyter.widget-view+json": {
       "model_id": "c8739c8c2f884da387e963a91314572a",
       "version_major": 2,
       "version_minor": 0
      },
      "text/plain": [
       "  0%|          | 0/1000 [00:00<?, ?it/s]"
      ]
     },
     "metadata": {},
     "output_type": "display_data"
    },
    {
     "name": "stdout",
     "output_type": "stream",
     "text": [
      "\n",
      "Train loss = 13.273399362564087\n",
      "Train perplexity = 2491834876847256.5\n",
      "\n"
     ]
    },
    {
     "data": {
      "application/vnd.jupyter.widget-view+json": {
       "model_id": "90a4245791ec42d89924d96b44630b77",
       "version_major": 2,
       "version_minor": 0
      },
      "text/plain": [
       "  0%|          | 0/575 [00:00<?, ?it/s]"
      ]
     },
     "metadata": {},
     "output_type": "display_data"
    },
    {
     "name": "stdout",
     "output_type": "stream",
     "text": [
      "\n",
      "Val loss = 13.331967330600904\n",
      "Val perplexity = 3350770830897813.5\n",
      "\n"
     ]
    },
    {
     "data": {
      "application/vnd.jupyter.widget-view+json": {
       "model_id": "a3d6340d4fa2414295b238126df44b95",
       "version_major": 2,
       "version_minor": 0
      },
      "text/plain": [
       "  0%|          | 0/1000 [00:00<?, ?it/s]"
      ]
     },
     "metadata": {},
     "output_type": "display_data"
    },
    {
     "name": "stdout",
     "output_type": "stream",
     "text": [
      "\n",
      "Train loss = 13.023203072547913\n",
      "Train perplexity = 21142691509.246983\n",
      "\n"
     ]
    },
    {
     "data": {
      "application/vnd.jupyter.widget-view+json": {
       "model_id": "0d0520a321ef4cafb429149835e39585",
       "version_major": 2,
       "version_minor": 0
      },
      "text/plain": [
       "  0%|          | 0/575 [00:00<?, ?it/s]"
      ]
     },
     "metadata": {},
     "output_type": "display_data"
    },
    {
     "name": "stdout",
     "output_type": "stream",
     "text": [
      "\n",
      "Val loss = 12.933897665272589\n",
      "Val perplexity = 12868839001215.412\n",
      "\n"
     ]
    },
    {
     "data": {
      "application/vnd.jupyter.widget-view+json": {
       "model_id": "d6f512017a4848f9a2b7f75c45117cd7",
       "version_major": 2,
       "version_minor": 0
      },
      "text/plain": [
       "  0%|          | 0/1000 [00:00<?, ?it/s]"
      ]
     },
     "metadata": {},
     "output_type": "display_data"
    },
    {
     "name": "stdout",
     "output_type": "stream",
     "text": [
      "\n",
      "Train loss = 12.56742042350769\n",
      "Train perplexity = 258277795.68333593\n",
      "\n"
     ]
    },
    {
     "data": {
      "application/vnd.jupyter.widget-view+json": {
       "model_id": "1845d5f5f46f4400893477698d0e5911",
       "version_major": 2,
       "version_minor": 0
      },
      "text/plain": [
       "  0%|          | 0/575 [00:00<?, ?it/s]"
      ]
     },
     "metadata": {},
     "output_type": "display_data"
    },
    {
     "name": "stdout",
     "output_type": "stream",
     "text": [
      "\n",
      "Val loss = 12.569540138244628\n",
      "Val perplexity = 521118875882.8981\n",
      "\n"
     ]
    },
    {
     "data": {
      "application/vnd.jupyter.widget-view+json": {
       "model_id": "05209b884a364c8ea6fdf2d94cd1e9ab",
       "version_major": 2,
       "version_minor": 0
      },
      "text/plain": [
       "  0%|          | 0/1000 [00:00<?, ?it/s]"
      ]
     },
     "metadata": {},
     "output_type": "display_data"
    },
    {
     "name": "stdout",
     "output_type": "stream",
     "text": [
      "\n",
      "Train loss = 12.25855275440216\n",
      "Train perplexity = 2059155.6373652343\n",
      "\n"
     ]
    },
    {
     "data": {
      "application/vnd.jupyter.widget-view+json": {
       "model_id": "3446a9b4aa414574a9aade5077dc588d",
       "version_major": 2,
       "version_minor": 0
      },
      "text/plain": [
       "  0%|          | 0/575 [00:00<?, ?it/s]"
      ]
     },
     "metadata": {},
     "output_type": "display_data"
    },
    {
     "name": "stdout",
     "output_type": "stream",
     "text": [
      "\n",
      "Val loss = 12.20556517559549\n",
      "Val perplexity = 6503997490.052452\n",
      "\n"
     ]
    },
    {
     "data": {
      "application/vnd.jupyter.widget-view+json": {
       "model_id": "9a129d2053934df29ebb8b0a4ca4cff8",
       "version_major": 2,
       "version_minor": 0
      },
      "text/plain": [
       "  0%|          | 0/1000 [00:00<?, ?it/s]"
      ]
     },
     "metadata": {},
     "output_type": "display_data"
    },
    {
     "name": "stdout",
     "output_type": "stream",
     "text": [
      "\n",
      "Train loss = 11.867764868736266\n",
      "Train perplexity = 1528636822.3900714\n",
      "\n"
     ]
    },
    {
     "data": {
      "application/vnd.jupyter.widget-view+json": {
       "model_id": "aa3ee61dff4e4a6287590bf04c74a471",
       "version_major": 2,
       "version_minor": 0
      },
      "text/plain": [
       "  0%|          | 0/575 [00:00<?, ?it/s]"
      ]
     },
     "metadata": {},
     "output_type": "display_data"
    },
    {
     "name": "stdout",
     "output_type": "stream",
     "text": [
      "\n",
      "Val loss = 11.70790943975034\n",
      "Val perplexity = 1418140305.5292222\n",
      "\n"
     ]
    },
    {
     "data": {
      "application/vnd.jupyter.widget-view+json": {
       "model_id": "38b6c0998a884dec8237b8565ba10985",
       "version_major": 2,
       "version_minor": 0
      },
      "text/plain": [
       "  0%|          | 0/1000 [00:00<?, ?it/s]"
      ]
     },
     "metadata": {},
     "output_type": "display_data"
    },
    {
     "name": "stdout",
     "output_type": "stream",
     "text": [
      "\n",
      "Train loss = 11.13712041759491\n",
      "Train perplexity = 17615718.403149657\n",
      "\n"
     ]
    },
    {
     "data": {
      "application/vnd.jupyter.widget-view+json": {
       "model_id": "d35b40e114e64ce4b1f8084d998f3c8a",
       "version_major": 2,
       "version_minor": 0
      },
      "text/plain": [
       "  0%|          | 0/575 [00:00<?, ?it/s]"
      ]
     },
     "metadata": {},
     "output_type": "display_data"
    },
    {
     "name": "stdout",
     "output_type": "stream",
     "text": [
      "\n",
      "Val loss = 11.081802160843559\n",
      "Val perplexity = 214151260.29461977\n",
      "\n"
     ]
    },
    {
     "data": {
      "application/vnd.jupyter.widget-view+json": {
       "model_id": "3358993ba5084ecf8db9c19779e0ecea",
       "version_major": 2,
       "version_minor": 0
      },
      "text/plain": [
       "  0%|          | 0/1000 [00:00<?, ?it/s]"
      ]
     },
     "metadata": {},
     "output_type": "display_data"
    },
    {
     "name": "stdout",
     "output_type": "stream",
     "text": [
      "\n",
      "Train loss = 10.771820645332337\n",
      "Train perplexity = 3648751.1897636717\n",
      "\n"
     ]
    },
    {
     "data": {
      "application/vnd.jupyter.widget-view+json": {
       "model_id": "52f3f52368d440c8a7e459d90bc28ac2",
       "version_major": 2,
       "version_minor": 0
      },
      "text/plain": [
       "  0%|          | 0/575 [00:00<?, ?it/s]"
      ]
     },
     "metadata": {},
     "output_type": "display_data"
    },
    {
     "name": "stdout",
     "output_type": "stream",
     "text": [
      "\n",
      "Val loss = 10.80535734674205\n",
      "Val perplexity = 13862604.361004373\n",
      "\n"
     ]
    },
    {
     "data": {
      "application/vnd.jupyter.widget-view+json": {
       "model_id": "4a454df44d864856beaa43345e598276",
       "version_major": 2,
       "version_minor": 0
      },
      "text/plain": [
       "  0%|          | 0/1000 [00:00<?, ?it/s]"
      ]
     },
     "metadata": {},
     "output_type": "display_data"
    },
    {
     "name": "stdout",
     "output_type": "stream",
     "text": [
      "\n",
      "Train loss = 10.565869745731353\n",
      "Train perplexity = 870674.9753181152\n",
      "\n"
     ]
    },
    {
     "data": {
      "application/vnd.jupyter.widget-view+json": {
       "model_id": "7d01aed0b9084fc3a705b0f2bc041470",
       "version_major": 2,
       "version_minor": 0
      },
      "text/plain": [
       "  0%|          | 0/575 [00:00<?, ?it/s]"
      ]
     },
     "metadata": {},
     "output_type": "display_data"
    },
    {
     "name": "stdout",
     "output_type": "stream",
     "text": [
      "\n",
      "Val loss = 10.616300719717275\n",
      "Val perplexity = 777624.4816077191\n",
      "\n"
     ]
    },
    {
     "data": {
      "application/vnd.jupyter.widget-view+json": {
       "model_id": "d862a637c5ee4a458681171304a5157d",
       "version_major": 2,
       "version_minor": 0
      },
      "text/plain": [
       "  0%|          | 0/1000 [00:00<?, ?it/s]"
      ]
     },
     "metadata": {},
     "output_type": "display_data"
    },
    {
     "name": "stdout",
     "output_type": "stream",
     "text": [
      "\n",
      "Train loss = 10.414670981884003\n",
      "Train perplexity = 2530471.928337402\n",
      "\n"
     ]
    },
    {
     "data": {
      "application/vnd.jupyter.widget-view+json": {
       "model_id": "d7f330fa41a3432a971ec5b3970879d8",
       "version_major": 2,
       "version_minor": 0
      },
      "text/plain": [
       "  0%|          | 0/575 [00:00<?, ?it/s]"
      ]
     },
     "metadata": {},
     "output_type": "display_data"
    },
    {
     "name": "stdout",
     "output_type": "stream",
     "text": [
      "\n",
      "Val loss = 10.447675363291864\n",
      "Val perplexity = 439776.0975350289\n",
      "\n"
     ]
    },
    {
     "data": {
      "application/vnd.jupyter.widget-view+json": {
       "model_id": "b9d88ee3a5fd4475ad7fc4fe972932b5",
       "version_major": 2,
       "version_minor": 0
      },
      "text/plain": [
       "  0%|          | 0/1000 [00:00<?, ?it/s]"
      ]
     },
     "metadata": {},
     "output_type": "display_data"
    },
    {
     "name": "stdout",
     "output_type": "stream",
     "text": [
      "\n",
      "Train loss = 10.302460082530976\n",
      "Train perplexity = 116624.05942126465\n",
      "\n"
     ]
    },
    {
     "data": {
      "application/vnd.jupyter.widget-view+json": {
       "model_id": "5686d0104fbe4608b010320c08612def",
       "version_major": 2,
       "version_minor": 0
      },
      "text/plain": [
       "  0%|          | 0/575 [00:00<?, ?it/s]"
      ]
     },
     "metadata": {},
     "output_type": "display_data"
    },
    {
     "name": "stdout",
     "output_type": "stream",
     "text": [
      "\n",
      "Val loss = 10.326050551870594\n",
      "Val perplexity = 543873.910087466\n",
      "\n"
     ]
    },
    {
     "data": {
      "application/vnd.jupyter.widget-view+json": {
       "model_id": "4558628a744a4495a5ec2ab36fc5d30b",
       "version_major": 2,
       "version_minor": 0
      },
      "text/plain": [
       "  0%|          | 0/1000 [00:00<?, ?it/s]"
      ]
     },
     "metadata": {},
     "output_type": "display_data"
    },
    {
     "name": "stdout",
     "output_type": "stream",
     "text": [
      "\n",
      "Train loss = 10.15346932554245\n",
      "Train perplexity = 108940.3479083252\n",
      "\n"
     ]
    },
    {
     "data": {
      "application/vnd.jupyter.widget-view+json": {
       "model_id": "913d961064974ede86d6bd6c94f18d31",
       "version_major": 2,
       "version_minor": 0
      },
      "text/plain": [
       "  0%|          | 0/575 [00:00<?, ?it/s]"
      ]
     },
     "metadata": {},
     "output_type": "display_data"
    },
    {
     "name": "stdout",
     "output_type": "stream",
     "text": [
      "\n",
      "Val loss = 10.214647948223611\n",
      "Val perplexity = 279669.96639138926\n",
      "\n"
     ]
    },
    {
     "data": {
      "application/vnd.jupyter.widget-view+json": {
       "model_id": "c3bdf102a353447a9cd38be985146d08",
       "version_major": 2,
       "version_minor": 0
      },
      "text/plain": [
       "  0%|          | 0/1000 [00:00<?, ?it/s]"
      ]
     },
     "metadata": {},
     "output_type": "display_data"
    },
    {
     "name": "stdout",
     "output_type": "stream",
     "text": [
      "\n",
      "Train loss = 10.140347895145416\n",
      "Train perplexity = 84662.95079077149\n",
      "\n"
     ]
    },
    {
     "data": {
      "application/vnd.jupyter.widget-view+json": {
       "model_id": "b1cabd7dd2974568a55535c20dfbf926",
       "version_major": 2,
       "version_minor": 0
      },
      "text/plain": [
       "  0%|          | 0/575 [00:00<?, ?it/s]"
      ]
     },
     "metadata": {},
     "output_type": "display_data"
    },
    {
     "name": "stdout",
     "output_type": "stream",
     "text": [
      "\n",
      "Val loss = 10.10632541158925\n",
      "Val perplexity = 141417.29554411516\n",
      "\n"
     ]
    },
    {
     "data": {
      "application/vnd.jupyter.widget-view+json": {
       "model_id": "6de5f839aa7b47758a2d9668ad1a0701",
       "version_major": 2,
       "version_minor": 0
      },
      "text/plain": [
       "  0%|          | 0/1000 [00:00<?, ?it/s]"
      ]
     },
     "metadata": {},
     "output_type": "display_data"
    },
    {
     "name": "stdout",
     "output_type": "stream",
     "text": [
      "\n",
      "Train loss = 10.001111440181733\n",
      "Train perplexity = 99718.32244274902\n",
      "\n"
     ]
    },
    {
     "data": {
      "application/vnd.jupyter.widget-view+json": {
       "model_id": "453d68e9ebc24c0793d51413baa663b1",
       "version_major": 2,
       "version_minor": 0
      },
      "text/plain": [
       "  0%|          | 0/575 [00:00<?, ?it/s]"
      ]
     },
     "metadata": {},
     "output_type": "display_data"
    },
    {
     "name": "stdout",
     "output_type": "stream",
     "text": [
      "\n",
      "Val loss = 10.014995613098144\n",
      "Val perplexity = 351755.93312032946\n",
      "\n"
     ]
    },
    {
     "data": {
      "application/vnd.jupyter.widget-view+json": {
       "model_id": "643bec4b90c74183b0d4b4cd30941284",
       "version_major": 2,
       "version_minor": 0
      },
      "text/plain": [
       "  0%|          | 0/1000 [00:00<?, ?it/s]"
      ]
     },
     "metadata": {},
     "output_type": "display_data"
    },
    {
     "name": "stdout",
     "output_type": "stream",
     "text": [
      "\n",
      "Train loss = 9.88390025138855\n",
      "Train perplexity = 630380.5353560181\n",
      "\n"
     ]
    },
    {
     "data": {
      "application/vnd.jupyter.widget-view+json": {
       "model_id": "ac7661dda16a4f40b7b301424417b11a",
       "version_major": 2,
       "version_minor": 0
      },
      "text/plain": [
       "  0%|          | 0/575 [00:00<?, ?it/s]"
      ]
     },
     "metadata": {},
     "output_type": "display_data"
    },
    {
     "name": "stdout",
     "output_type": "stream",
     "text": [
      "\n",
      "Val loss = 9.942992993230405\n",
      "Val perplexity = 1062308.1618654467\n",
      "\n"
     ]
    },
    {
     "data": {
      "application/vnd.jupyter.widget-view+json": {
       "model_id": "aea7fe91f8a44012bfa00ca3cdac7533",
       "version_major": 2,
       "version_minor": 0
      },
      "text/plain": [
       "  0%|          | 0/1000 [00:00<?, ?it/s]"
      ]
     },
     "metadata": {},
     "output_type": "display_data"
    },
    {
     "name": "stdout",
     "output_type": "stream",
     "text": [
      "\n",
      "Train loss = 9.851526480197906\n",
      "Train perplexity = 129624.94405145264\n",
      "\n"
     ]
    },
    {
     "data": {
      "application/vnd.jupyter.widget-view+json": {
       "model_id": "d3424036faf5494dba2753db1e764924",
       "version_major": 2,
       "version_minor": 0
      },
      "text/plain": [
       "  0%|          | 0/575 [00:00<?, ?it/s]"
      ]
     },
     "metadata": {},
     "output_type": "display_data"
    },
    {
     "name": "stdout",
     "output_type": "stream",
     "text": [
      "\n",
      "Val loss = 9.860897156259288\n",
      "Val perplexity = 61497.87249214504\n",
      "\n"
     ]
    }
   ],
   "source": [
    "optimizer = torch.optim.Adam(model.parameters(), lr=1e-4)\n",
    "\n",
    "n_epochs = 20\n",
    "n_steps_per_epoch = 1_000\n",
    "\n",
    "for epoch in tqdm(range(n_epochs)):\n",
    "    losses = []\n",
    "    perplexity_values = []\n",
    "    model.train()\n",
    "    for i, batch in tqdm(enumerate(train_loader, start=1), total=n_steps_per_epoch):\n",
    "        optimizer.zero_grad()\n",
    "        \n",
    "        batch = {key: value.to(device) for key, value in batch.items()}\n",
    "        outputs = model(**batch)\n",
    "        \n",
    "        loss = outputs.loss\n",
    "        loss.backward()\n",
    "        optimizer.step()\n",
    "        \n",
    "        losses.append(loss.item())\n",
    "        perplexity_values.append(torch.exp(loss).item())\n",
    "        \n",
    "        if i == n_steps_per_epoch:\n",
    "            break\n",
    "    \n",
    "    print()\n",
    "    print(f'Train loss = {np.mean(losses)}')\n",
    "    print(f'Train perplexity = {np.mean(perplexity_values)}')\n",
    "    print()\n",
    "    \n",
    "    losses = []\n",
    "    perplexity_values = []\n",
    "    model.eval()\n",
    "    with torch.inference_mode():\n",
    "        for batch in tqdm(val_loader):\n",
    "            batch = {key: value.to(device) for key, value in batch.items()}\n",
    "            outputs = model(**batch)\n",
    "\n",
    "            loss = outputs.loss\n",
    "\n",
    "            losses.append(loss.item())\n",
    "            perplexity_values.append(torch.exp(loss).item())\n",
    "    \n",
    "    print()\n",
    "    print(f'Val loss = {np.mean(losses)}')\n",
    "    print(f'Val perplexity = {np.mean(perplexity_values)}')\n",
    "    print()"
   ]
  },
  {
   "cell_type": "code",
   "execution_count": 14,
   "id": "3b4171bf",
   "metadata": {},
   "outputs": [
    {
     "data": {
      "text/plain": [
       "113689"
      ]
     },
     "execution_count": 14,
     "metadata": {},
     "output_type": "execute_result"
    }
   ],
   "source": [
    "len(train_dataset)"
   ]
  },
  {
   "cell_type": "code",
   "execution_count": null,
   "id": "5014758a",
   "metadata": {},
   "outputs": [],
   "source": []
  }
 ],
 "metadata": {
  "kernelspec": {
   "display_name": "Python 3 (ipykernel)",
   "language": "python",
   "name": "python3"
  },
  "language_info": {
   "codemirror_mode": {
    "name": "ipython",
    "version": 3
   },
   "file_extension": ".py",
   "mimetype": "text/x-python",
   "name": "python",
   "nbconvert_exporter": "python",
   "pygments_lexer": "ipython3",
   "version": "3.9.7"
  }
 },
 "nbformat": 4,
 "nbformat_minor": 5
}
